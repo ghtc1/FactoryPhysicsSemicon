{
 "cells": [
  {
   "cell_type": "code",
   "execution_count": 68,
   "id": "4dabb2ae",
   "metadata": {},
   "outputs": [],
   "source": [
    "import numpy as np \n",
    "import matplotlib.pyplot as plt  \n",
    "import ipywidgets as widgets"
   ]
  },
  {
   "cell_type": "code",
   "execution_count": 83,
   "id": "2f15cda3",
   "metadata": {},
   "outputs": [],
   "source": [
    "lambd_init = 0.85 # arrival rate in k wafers/week, poisson distributed \n",
    "mu_init = 0.9 # production rate in k wafers/week, poisson distributed \n",
    "style = {'description_width': 'initial'}\n",
    "mu = widgets.FloatSlider(\n",
    "    value=mu_init,\n",
    "    min=0.01,\n",
    "    max=10,\n",
    "    step=0.01,\n",
    "    description='Production rate in k wafers/week, poisson distributed:',\n",
    "    disabled=False,\n",
    "    layout=widgets.Layout(width='500px'),\n",
    "    style=style)\n",
    "\n",
    "lambd = widgets.FloatSlider(\n",
    "    value=lambd_init,\n",
    "    min=0.01,\n",
    "    max=mu_init,\n",
    "    step=0.01,\n",
    "    description='Order arrival rate in k wafers/week, poisson distributed:',\n",
    "    disabled=False,\n",
    "    layout=widgets.Layout(width='500px'),\n",
    "    style=style)\n"
   ]
  },
  {
   "cell_type": "code",
   "execution_count": 77,
   "id": "de9ac8ed",
   "metadata": {},
   "outputs": [],
   "source": [
    "def drawPlot(p,W,p_chart,W_chart):\n",
    "    plt.plot(p_chart*100,W_chart) \n",
    "    plt.plot(p*100, W, 'ro')\n",
    "    plt.grid(\"on\")\n",
    "    plt.title(\"Waiting time based on utilization\") \n",
    "    plt.xlabel(\"Utilization (%)\")\n",
    "    plt.ylabel(\"Waiting time (weeks)\")\n",
    "    plt.axvline(p*100, color='r',lw=0.5) # vertical\n",
    "    plt.axhline(W, color='r',lw=0.5) # horizontal"
   ]
  },
  {
   "cell_type": "code",
   "execution_count": 116,
   "id": "b30f81ee",
   "metadata": {},
   "outputs": [],
   "source": [
    "def updatePlot(lambd,mu): \n",
    "    W=1/(mu-lambd) # waiting time in system in weeks \n",
    "    p=lambd/mu # utilization in % \n",
    "    p_chart=np.arange(0,1,0.01)\n",
    "    W_chart=1/(mu*(1-p_chart))\n",
    "    drawPlot(p,W,p_chart,W_chart) \n",
    "    plt.show()\n",
    "    printOutput(p,W)\n",
    "    \n",
    "def printOutput(p,W):\n",
    "    print('Utilization: {:.1f}%'.format(p*100))\n",
    "    print('Waiting time: {:.1f} weeks'.format(W))\n"
   ]
  },
  {
   "cell_type": "code",
   "execution_count": 117,
   "id": "96d14506",
   "metadata": {},
   "outputs": [],
   "source": [
    "def updateMaxLambda(*args): \n",
    "    lambd.max=mu.value-0.01\n",
    "\n",
    "mu.observe(updateMaxLambda, 'value')\n",
    " "
   ]
  },
  {
   "cell_type": "code",
   "execution_count": 118,
   "id": "c4dd6b69",
   "metadata": {},
   "outputs": [
    {
     "data": {
      "image/png": "[encoded data removed]",
      "text/plain": [
       "<Figure size 432x288 with 1 Axes>"
      ]
     },
     "metadata": {
      "needs_background": "light"
     },
     "output_type": "display_data"
    },
    {
     "name": "stdout",
     "output_type": "stream",
     "text": [
      "Utilization: 94.4%\n",
      "Waiting time: 20.0 weeks\n"
     ]
    }
   ],
   "source": [
    "widgets.interactive(updatePlot, lambd=lambd,mu=mu)"
   ]
  },
  {
   "cell_type": "code",
   "execution_count": null,
   "id": "ec10f14f",
   "metadata": {},
   "outputs": [],
   "source": []
  }
 ],
 "metadata": {
  "kernelspec": {
   "display_name": "Python 3 (ipykernel)",
   "language": "python",
   "name": "python3"
  },
  "language_info": {
   "codemirror_mode": {
    "name": "ipython",
    "version": 3
   },
   "file_extension": ".py",
   "mimetype": "text/x-python",
   "name": "python",
   "nbconvert_exporter": "python",
   "pygments_lexer": "ipython3",
   "version": "3.8.7"
  }
 },
 "nbformat": 4,
 "nbformat_minor": 5
}
